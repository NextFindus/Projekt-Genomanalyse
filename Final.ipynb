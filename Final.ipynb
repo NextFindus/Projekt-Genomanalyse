{
 "cells": [
  {
   "cell_type": "code",
   "execution_count": null,
   "id": "09652697-5bd0-4058-b3dd-600661b82548",
   "metadata": {},
   "outputs": [],
   "source": [
    "import re\n",
    "datei = open(\"Azolla_rRNA.fa\") #Content aus Datei bekommen\n",
    "content = datei.readlines()\n",
    "datei.close() \n",
    "inhalt={} #dictionary um Inhalt einzulesen\n",
    "anzahlVorher=int(len(content)/2) #Anzahl der Gene(jeweils 2 Zeilen pro Gen)\n",
    "wiederh=[0]*int(len(content)/2) #list,in der mitgezählt wird, wie oft etwas da ist\n",
    "zeile=0 #Zähler für Zeilen in content\n",
    "stelle=-1#gibt aktuelle Stelle in wiederh an\n",
    "while zeile!= len(content):\n",
    "    if zeile%2==0: #bei geraden Zeilen, also denen mit Namen\n",
    "        key=content[zeile] #Namen zwischenspeichern\n",
    "        zeile+=1 #Zeilennummer erhöhen\n",
    "    else:\n",
    "        value=content[zeile] #Sequenz zwischenspeichern\n",
    "        value=value.upper() #alles groß machen, damit Vergleichbarkeit gegeben ist\n",
    "        zähler=-1 #zählt Iterationen von i\n",
    "        stelle+=1 #die nächste Sequenz wird angeguckt, also auch die nächste Stelle in der list mit der Anzahl der Wiederholungen gefüllt\n",
    "        doppelt=0 #Wahrheitswert 0 vs. 1, je nachdem ob etwas schon in der Liste war\n",
    "        for i in inhalt.values():\n",
    "            zähler+=1\n",
    "            if i==value:\n",
    "                wiederh[zähler]+=1 #die Sequenz gibt es schon, also wird der entsprechende Counter der schon gespeicherten Sequenz erhöht\n",
    "                doppelt=1\n",
    "        if doppelt==0:\n",
    "            wiederh[stelle]+=1 #die sequenz gab es noch nicht, also wird eine neue Zählposition aufgerufen\n",
    "            inhalt[key]=value #neues Paar anhängen\n",
    "        else:\n",
    "            stelle-=1 #stelle wird wieder zurückgesetzt, da der Counter in wiederh schon an anderer Stelle erhöht wurde\n",
    "        key=\"\"\n",
    "        value=\"\"\n",
    "        zeile+=1\n",
    "        dateiNeu=open(\"Azolla_rRNA_aufgeräumt.fa\", \"a\") #neue Datei zum Speichern\n",
    "x=0 #Zähler Schleifendurchgänge\n",
    "for key in inhalt: \n",
    "    neu=key+\"_\"+str(wiederh[x])+\"x\" #Anzahl der Wiederholungen wird an Name angehängt\n",
    "    neu=re.sub(\"\\n\",\"\",neu) #unnötiger Zeilenumbruch\n",
    "    dateiNeu.write(neu+\"\\n\"+inhalt[key]) #schreiben in verkürzte Datei\n",
    "    x+=1\n",
    "dateiNeu.close()\n",
    "anzahlNachher=len(inhalt)\n",
    "print(\"Vorher waren es \"+str(anzahlVorher)+\" Gene.\")\n",
    "print(\"Jetzt sind es \"+str(anzahlNachher)+\" Gene.\")"
   ]
  }
 ],
 "metadata": {
  "kernelspec": {
   "display_name": "Python 3 (ipykernel)",
   "language": "python",
   "name": "python3"
  },
  "language_info": {
   "codemirror_mode": {
    "name": "ipython",
    "version": 3
   },
   "file_extension": ".py",
   "mimetype": "text/x-python",
   "name": "python",
   "nbconvert_exporter": "python",
   "pygments_lexer": "ipython3",
   "version": "3.10.10"
  }
 },
 "nbformat": 4,
 "nbformat_minor": 5
}
